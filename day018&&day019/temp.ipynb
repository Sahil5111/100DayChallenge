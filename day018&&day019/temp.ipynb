{
 "cells": [
  {
   "cell_type": "code",
   "execution_count": 1,
   "metadata": {},
   "outputs": [],
   "source": [
    "import numpy as np\n",
    "import pandas as pd\n",
    "import json\n",
    "import plotly.express as px"
   ]
  },
  {
   "cell_type": "code",
   "execution_count": 2,
   "metadata": {},
   "outputs": [],
   "source": [
    "import plotly.io as pio\n",
    "pio.renderers.default='firefox'"
   ]
  },
  {
   "cell_type": "code",
   "execution_count": 3,
   "metadata": {},
   "outputs": [],
   "source": [
    "india=json.load(open(\"states_india.geojson\",'r'))\n",
    "df=pd.read_excel(\"onion.xlsx\")\n",
    "df2=pd.read_excel(\"wheat.xlsx\")"
   ]
  },
  {
   "cell_type": "code",
   "execution_count": 4,
   "metadata": {},
   "outputs": [],
   "source": [
    "df['Production']=df['Production'].astype(float)\n",
    "df2['Production']=df2['Production'].astype(float)"
   ]
  },
  {
   "cell_type": "code",
   "execution_count": 5,
   "metadata": {},
   "outputs": [],
   "source": [
    "state_id_map={}\n",
    "for feature in india['features']:\n",
    "    feature['id'] = feature['properties']['state_code']\n",
    "    state_id_map[feature['properties']['st_nm']]=feature['id']"
   ]
  },
  {
   "cell_type": "code",
   "execution_count": 6,
   "metadata": {},
   "outputs": [
    {
     "name": "stderr",
     "output_type": "stream",
     "text": [
      "C:\\Users\\sahil\\code\\100DayChallenge\\env\\lib\\site-packages\\pandas\\core\\arraylike.py:405: RuntimeWarning:\n",
      "\n",
      "divide by zero encountered in log10\n",
      "\n",
      "C:\\Users\\sahil\\code\\100DayChallenge\\env\\lib\\site-packages\\pandas\\core\\arraylike.py:405: RuntimeWarning:\n",
      "\n",
      "divide by zero encountered in log10\n",
      "\n"
     ]
    }
   ],
   "source": [
    "df['log10(Production)']=np.log10(df['Production'])\n",
    "df2['log10(Production)']=np.log10(df['Production'])"
   ]
  },
  {
   "cell_type": "code",
   "execution_count": 7,
   "metadata": {},
   "outputs": [],
   "source": [
    "temp=px.choropleth(df,locations='id',geojson=india,color='log10(Production)',hover_name='State',scope='asia')\n",
    "temp.show()"
   ]
  },
  {
   "cell_type": "code",
   "execution_count": 8,
   "metadata": {},
   "outputs": [],
   "source": [
    "temp2=px.choropleth(df2,locations='id',geojson=india,color='log10(Production)',hover_name='State_Name',scope='asia')\n",
    "temp2.show()"
   ]
  }
 ],
 "metadata": {
  "kernelspec": {
   "display_name": "Python 3 (ipykernel)",
   "language": "python",
   "name": "python3"
  },
  "language_info": {
   "codemirror_mode": {
    "name": "ipython",
    "version": 3
   },
   "file_extension": ".py",
   "mimetype": "text/x-python",
   "name": "python",
   "nbconvert_exporter": "python",
   "pygments_lexer": "ipython3",
   "version": "3.10.7"
  },
  "vscode": {
   "interpreter": {
    "hash": "cddc9ff61b9912e23e76fe8bf3f1fa6d61ff34f2ed66a58a992b0e9c8f0a3c99"
   }
  }
 },
 "nbformat": 4,
 "nbformat_minor": 2
}
